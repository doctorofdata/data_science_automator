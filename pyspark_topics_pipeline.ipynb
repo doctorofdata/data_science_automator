{
 "cells": [
  {
   "cell_type": "markdown",
   "metadata": {},
   "source": [
    "# PySpark NLP Topic Modeling - News Articles\n",
    "---"
   ]
  },
  {
   "cell_type": "code",
   "execution_count": 1,
   "metadata": {},
   "outputs": [
    {
     "name": "stderr",
     "output_type": "stream",
     "text": [
      "/Users/zxs/miniconda3/lib/python3.7/site-packages/sklearn/feature_extraction/text.py:17: DeprecationWarning: Using or importing the ABCs from 'collections' instead of from 'collections.abc' is deprecated since Python 3.3,and in 3.9 it will stop working\n",
      "  from collections import Mapping, defaultdict\n"
     ]
    },
    {
     "name": "stdout",
     "output_type": "stream",
     "text": [
      "CPU times: user 7.83 s, sys: 1.66 s, total: 9.49 s\n",
      "Wall time: 2min 8s\n"
     ]
    }
   ],
   "source": [
    "%%time\n",
    "\n",
    "# Import libraries\n",
    "import findspark\n",
    "findspark.init()\n",
    "import pandas as pd\n",
    "import nltk\n",
    "import string\n",
    "import re\n",
    "from pyspark.sql import SQLContext, SparkSession, Row\n",
    "from pyspark import SparkContext\n",
    "from pyspark.sql.types import *\n",
    "from sparknlp.base import *\n",
    "from pyspark.ml import Pipeline\n",
    "from pyspark.ml.feature import CountVectorizer , IDF\n",
    "from pyspark.mllib.linalg import Vector, Vectors\n",
    "from pyspark.sql.functions import udf\n",
    "from gensim import corpora, models, similarities\n",
    "import os\n",
    "import gensim\n",
    "from gensim.models import CoherenceModel\n",
    "import gensim.corpora as corpora\n",
    "import matplotlib.pyplot as plt\n",
    "from sklearn.manifold import TSNE\n",
    "from sklearn.decomposition import LatentDirichletAllocation\n",
    "from sklearn.model_selection import GridSearchCV\n",
    "import numpy as np\n",
    "import networkx as nx\n",
    "from sklearn.feature_extraction.text import TfidfVectorizer\n",
    "from sklearn.cluster import KMeans\n",
    "import colorcet as cc\n",
    "import ast\n",
    "import umap\n",
    "import re\n",
    "import spacy\n",
    "from nltk.corpus import stopwords\n",
    "from pyspark.sql import functions as sf\n",
    "from pyspark.ml.feature import CountVectorizer\n",
    "from pyspark.ml.clustering import LDA\n",
    "from pyspark.sql.functions import col\n",
    "import operator\n",
    "\n",
    "# Configure workspace\n",
    "%matplotlib inline\n",
    "%config InlineBackend.figure_format = 'retina'\n",
    "\n",
    "plt.style.use('fivethirtyeight')\n",
    "\n",
    "# Function to parse documents\n",
    "def process_text(x):\n",
    "    \n",
    "    x = x.lower()\n",
    "    x = re.sub(\"[^a-zA-Z]\", ' ', x)\n",
    "    \n",
    "    return x.split(' ')\n",
    "\n",
    "# Set working directory\n",
    "os.chdir('/Users/zxs/Documents/data/kaggle_articles/')\n",
    "\n",
    "# Regex info\n",
    "ws = re.compile(r'\\s+')\n",
    "\n",
    "# Load data for POS tagging\n",
    "pos = spacy.load('en_core_web_sm')\n",
    "\n",
    "# Initialize spark\n",
    "spark = SparkSession.builder.master('local[*]').config(\"spark.driver.memory\", \"32g\").appName('medium_nlp').getOrCreate()\n",
    "sc = SparkContext.getOrCreate()\n",
    "sc.setSystemProperty('spark.executor.memory', '32g')\n",
    "sql = SQLContext(sc)\n",
    "\n",
    "# Read data\n",
    "data = {}\n",
    "\n",
    "# Iterate\n",
    "for file in os.listdir():\n",
    "    \n",
    "    data[file] = pd.read_csv(file)\n",
    "    \n",
    "# Combine results\n",
    "df = pd.DataFrame()\n",
    "\n",
    "for k, v in data.items():\n",
    "    \n",
    "    df = df.append(v)\n",
    "\n",
    "# Subset columns\n",
    "df = df[['title', 'publication', 'author', 'date', 'content']]\n",
    "df.fillna('unknown', inplace = True)\n",
    "\n",
    "# Pattern for parsing\n",
    "ws = re.compile(r'\\s+')"
   ]
  },
  {
   "cell_type": "code",
   "execution_count": 2,
   "metadata": {},
   "outputs": [],
   "source": [
    "%%time\n",
    "\n",
    "# Define data structure for pyspark\n",
    "schema = StructType([StructField(\"title\", StringType(), True),\n",
    "                     StructField(\"publication\", StringType(), True),\n",
    "                     StructField('author', StringType(), True),\n",
    "                     StructField('date', StringType(), True),\n",
    "                     StructField('content', StringType(), True)])\n",
    "\n",
    "# Convert data and process\n",
    "df1 = spark.createDataFrame(df, schema)\n",
    "df2 = df1.withColumn('words', sf.concat(sf.col('title'),sf.lit(' '), sf.col('content')))\n",
    "\n",
    "# Tokenize text and sub unwanted chars\n",
    "converter = udf(lambda x: process_text(x), ArrayType(StringType()))\n",
    "\n",
    "# Apply pyspark func\n",
    "df3 = df2.withColumn(\"parsed\", converter(df2.words))"
   ]
  },
  {
   "cell_type": "code",
   "execution_count": 9,
   "metadata": {},
   "outputs": [
    {
     "name": "stdout",
     "output_type": "stream",
     "text": [
      "CPU times: user 17.5 ms, sys: 7.58 ms, total: 25.1 ms\n",
      "Wall time: 48.5 s\n"
     ]
    }
   ],
   "source": [
    "%%time\n",
    "\n",
    "# TF\n",
    "cv = CountVectorizer(inputCol = \"parsed\", outputCol = \"raw\", vocabSize = 1000, minDF = 100)\n",
    "m = cv.fit(df3)\n",
    "r = m.transform(df3)\n",
    "\n",
    "# IDF\n",
    "idf = IDF(inputCol = \"raw\", outputCol = \"features\")\n",
    "idfm = idf.fit(r)\n",
    "out = idfm.transform(r)"
   ]
  },
  {
   "cell_type": "code",
   "execution_count": 10,
   "metadata": {},
   "outputs": [
    {
     "name": "stdout",
     "output_type": "stream",
     "text": [
      "CPU times: user 20.3 ms, sys: 10.6 ms, total: 30.9 ms\n",
      "Wall time: 48.1 s\n"
     ]
    }
   ],
   "source": [
    "%%time\n",
    "\n",
    "# Train LDA\n",
    "lda = LDA(k = 10, maxIter = 10)\n",
    "model = lda.fit(out)"
   ]
  },
  {
   "cell_type": "code",
   "execution_count": 59,
   "metadata": {},
   "outputs": [
    {
     "name": "stdout",
     "output_type": "stream",
     "text": [
      "CPU times: user 13.2 ms, sys: 8.19 ms, total: 21.4 ms\n",
      "Wall time: 2min 13s\n"
     ]
    },
    {
     "data": {
      "text/plain": [
       "6.590102110786155"
      ]
     },
     "execution_count": 59,
     "metadata": {},
     "output_type": "execute_result"
    }
   ],
   "source": [
    "%time print('Log Perplexity for LDA Topic Model: {}'.format(model.logPerplexity(out)))"
   ]
  },
  {
   "cell_type": "code",
   "execution_count": 37,
   "metadata": {},
   "outputs": [
    {
     "name": "stdout",
     "output_type": "stream",
     "text": [
      "Topic # 0\n",
      "\n",
      "['trump', 'house', 'senate', 'ryan', 'fbi'] \n",
      "\n",
      "Topic # 1\n",
      "\n",
      "['sanders', 'i', 'you', 'clinton', 'students'] \n",
      "\n",
      "Topic # 2\n",
      "\n",
      "['percent', 'korea', 'north', 'tax', 'oil'] \n",
      "\n",
      "Topic # 3\n",
      "\n",
      "['russia', 'syria', 'isis', 'iran', 'u'] \n",
      "\n",
      "Topic # 4\n",
      "\n",
      "['health', 'company', 'water', 'care', 'insurance'] \n",
      "\n",
      "Topic # 5\n",
      "\n",
      "['trump', 'cruz', 'republican', 'rubio', 'campaign'] \n",
      "\n",
      "Topic # 6\n",
      "\n",
      "['her', 'she', 'comey', 'i', 'clinton'] \n",
      "\n",
      "Topic # 7\n",
      "\n",
      "['trump', 'china', 'clinton', 'obama', 'trade'] \n",
      "\n",
      "Topic # 8\n",
      "\n",
      "['mr', 'court', 'law', 'refugees', 'judge'] \n",
      "\n",
      "Topic # 9\n",
      "\n",
      "['i', 'police', 'my', 'he', 'you'] \n",
      "\n"
     ]
    }
   ],
   "source": [
    "# Get topics from LDA model\n",
    "tpcs = model.describeTopics(5).rdd  \n",
    "tpcsw = tpcs.map(lambda row: row['termIndices']).map(lambda idx_list: [vocab[idx] for idx in idx_list]).collect()\n",
    "\n",
    "# Inspect\n",
    "for idx, topic in enumerate(tpcsw):\n",
    "    \n",
    "    print(\"Topic # {}\\n\".format(idx))\n",
    "    \n",
    "    print([word for word in topic], '\\n')"
   ]
  },
  {
   "cell_type": "code",
   "execution_count": 28,
   "metadata": {},
   "outputs": [
    {
     "name": "stdout",
     "output_type": "stream",
     "text": [
      "+--------------------+--------------+--------------------+----------+--------------------+--------------------+--------------------+--------------------+--------------------+--------------------+\n",
      "|               title|   publication|              author|      date|             content|               words|              parsed|                 raw|            features|   topicDistribution|\n",
      "+--------------------+--------------+--------------------+----------+--------------------+--------------------+--------------------+--------------------+--------------------+--------------------+\n",
      "|House Republicans...|New York Times|          Carl Hulse|2016-12-31|WASHINGTON  —   C...|House Republicans...|[house, republica...|(1000,[0,1,2,3,4,...|(1000,[0,1,2,3,4,...|[0.61421097680255...|\n",
      "|Rift Between Offi...|New York Times|Benjamin Mueller ...|2017-06-19|After the bullet ...|Rift Between Offi...|[rift, between, o...|(1000,[0,1,2,3,4,...|(1000,[0,1,2,3,4,...|[3.31000078164045...|\n",
      "|Tyrus Wong, ‘Bamb...|New York Times|        Margalit Fox|2017-01-06|When Walt Disney’...|Tyrus Wong, ‘Bamb...|[tyrus, wong, , ,...|(1000,[0,1,2,3,4,...|(1000,[0,1,2,3,4,...|[7.90378124632146...|\n",
      "|Among Deaths in 2...|New York Times|    William McDonald|2017-04-10|Death may be the ...|Among Deaths in 2...|[among, deaths, i...|(1000,[0,1,2,3,4,...|(1000,[0,1,2,3,4,...|[9.26649707672409...|\n",
      "|Kim Jong-un Says ...|New York Times|       Choe Sang-Hun|2017-01-02|SEOUL, South Kore...|Kim Jong-un Says ...|[kim, jong, un, s...|(1000,[0,1,2,3,4,...|(1000,[0,1,2,3,4,...|[1.79981666451456...|\n",
      "+--------------------+--------------+--------------------+----------+--------------------+--------------------+--------------------+--------------------+--------------------+--------------------+\n",
      "only showing top 5 rows\n",
      "\n",
      "CPU times: user 4.6 ms, sys: 2.21 ms, total: 6.81 ms\n",
      "Wall time: 512 ms\n"
     ]
    }
   ],
   "source": [
    "%%time\n",
    "\n",
    "# Apply model to data for labeling\n",
    "transformed = model.transform(out)\n",
    "transformed.show(5)"
   ]
  },
  {
   "cell_type": "code",
   "execution_count": 77,
   "metadata": {},
   "outputs": [],
   "source": [
    "# Function to select topic from weight\n",
    "def select_topic(x):\n",
    "    \n",
    "    tpc, val = max(enumerate(x), key = operator.itemgetter(1))\n",
    "    \n",
    "    return tpc"
   ]
  },
  {
   "cell_type": "code",
   "execution_count": 78,
   "metadata": {},
   "outputs": [],
   "source": [
    "topic_selector = udf(lambda x: select_topic(x), IntegerType())\n",
    "t1 = transformed.withColumn('topic', topic_selector(transformed.topicDistribution))"
   ]
  },
  {
   "cell_type": "code",
   "execution_count": 79,
   "metadata": {},
   "outputs": [
    {
     "name": "stdout",
     "output_type": "stream",
     "text": [
      "+--------------------+--------------+--------------------+----------+--------------------+--------------------+--------------------+--------------------+--------------------+--------------------+-----+\n",
      "|               title|   publication|              author|      date|             content|               words|              parsed|                 raw|            features|   topicDistribution|topic|\n",
      "+--------------------+--------------+--------------------+----------+--------------------+--------------------+--------------------+--------------------+--------------------+--------------------+-----+\n",
      "|House Republicans...|New York Times|          Carl Hulse|2016-12-31|WASHINGTON  —   C...|House Republicans...|[house, republica...|(1000,[0,1,2,3,4,...|(1000,[0,1,2,3,4,...|[0.61421097680255...|    0|\n",
      "|Rift Between Offi...|New York Times|Benjamin Mueller ...|2017-06-19|After the bullet ...|Rift Between Offi...|[rift, between, o...|(1000,[0,1,2,3,4,...|(1000,[0,1,2,3,4,...|[3.31000078164045...|    9|\n",
      "|Tyrus Wong, ‘Bamb...|New York Times|        Margalit Fox|2017-01-06|When Walt Disney’...|Tyrus Wong, ‘Bamb...|[tyrus, wong, , ,...|(1000,[0,1,2,3,4,...|(1000,[0,1,2,3,4,...|[7.90378124632146...|    9|\n",
      "|Among Deaths in 2...|New York Times|    William McDonald|2017-04-10|Death may be the ...|Among Deaths in 2...|[among, deaths, i...|(1000,[0,1,2,3,4,...|(1000,[0,1,2,3,4,...|[9.26649707672409...|    9|\n",
      "|Kim Jong-un Says ...|New York Times|       Choe Sang-Hun|2017-01-02|SEOUL, South Kore...|Kim Jong-un Says ...|[kim, jong, un, s...|(1000,[0,1,2,3,4,...|(1000,[0,1,2,3,4,...|[1.79981666451456...|    2|\n",
      "|Sick With a Cold,...|New York Times|         Sewell Chan|2017-01-02|LONDON  —   Queen...|Sick With a Cold,...|[sick, with, a, c...|(1000,[0,1,2,3,4,...|(1000,[0,1,2,3,4,...|[9.34267814395063...|    3|\n",
      "|Taiwan’s Presiden...|New York Times| Javier C. Hernández|2017-01-02|BEIJING  —   Pres...|Taiwan’s Presiden...|[taiwan, s, presi...|(1000,[0,1,2,3,4,...|(1000,[0,1,2,3,4,...|[2.53983067032208...|    7|\n",
      "|After ‘The Bigges...|New York Times|         Gina Kolata|2017-02-08|Danny Cahill stoo...|After ‘The Bigges...|[after, , the, bi...|(1000,[0,1,2,3,4,...|(1000,[0,1,2,3,4,...|[5.73874562989126...|    9|\n",
      "|First, a Mixtape....|New York Times|    Katherine Rosman|2016-12-31|Just how   is Hil...|First, a Mixtape....|[first, , a, mixt...|(1000,[0,1,2,3,4,...|(1000,[0,1,2,3,4,...|[1.00584950618842...|    6|\n",
      "|Calling on Angels...|New York Times|         Andy Newman|2016-12-31|Angels are everyw...|Calling on Angels...|[calling, on, ang...|(1000,[0,1,2,3,4,...|(1000,[0,1,2,3,4,...|[1.95878872006991...|    6|\n",
      "|Weak Federal Powe...|New York Times|       Justin Gillis|2017-01-03|With Donald J. Tr...|Weak Federal Powe...|[weak, federal, p...|(1000,[0,1,2,3,4,...|(1000,[0,1,2,3,4,...|[1.10806020465455...|    7|\n",
      "|Can Carbon Captur...|New York Times|       John Schwartz|2017-01-05|THOMPSONS, Tex.  ...|Can Carbon Captur...|[can, carbon, cap...|(1000,[0,1,2,3,4,...|(1000,[0,1,2,3,4,...|[9.05486324001741...|    4|\n",
      "|Mar-a-Lago, the F...|New York Times|     Maggie Haberman|2017-01-02|WEST PALM BEACH, ...|Mar-a-Lago, the F...|[mar, a, lago, , ...|(1000,[0,1,2,3,4,...|(1000,[0,1,2,3,4,...|[1.27875352688120...|    8|\n",
      "|How to form healt...|New York Times|      Charles Duhigg|2017-01-02|This article is p...|How to form healt...|[how, to, form, h...|(1000,[0,1,2,3,4,...|(1000,[0,1,2,3,4,...|[2.30166898336590...|    1|\n",
      "|Turning Your Vaca...|New York Times|Stephanie Rosenbloom|2017-04-14|It’s the season f...|Turning Your Vaca...|[turning, your, v...|(1000,[0,1,2,3,4,...|(1000,[0,1,2,3,4,...|[1.06284925692716...|    9|\n",
      "|As Second Avenue ...|New York Times| Emma G. Fitzsimmons|2017-01-02|Finally. The Seco...|As Second Avenue ...|[as, second, aven...|(1000,[0,1,2,3,4,...|(1000,[0,1,2,3,4,...|[1.30833270119187...|    9|\n",
      "|Dylann Roof Himse...|New York Times|Kevin Sack and Al...|2017-01-02|  pages into the ...|Dylann Roof Himse...|[dylann, roof, hi...|(1000,[0,1,2,3,4,...|(1000,[0,1,2,3,4,...|[9.84582003303513...|    8|\n",
      "|Modi’s Cash Ban B...|New York Times|         Geeta Anand|2017-01-02|MUMBAI, India  — ...|Modi’s Cash Ban B...|[modi, s, cash, b...|(1000,[0,1,2,3,4,...|(1000,[0,1,2,3,4,...|[9.96297504004271...|    8|\n",
      "|Suicide Bombing i...|New York Times|The Associated Press|2017-01-03|BAGHDAD  —   A su...|Suicide Bombing i...|[suicide, bombing...|(1000,[0,1,2,3,4,...|(1000,[0,1,2,3,4,...|[2.63254801436277...|    3|\n",
      "|Fecal Pollution T...|New York Times|          Brett Cole|2017-01-03|SYDNEY, Australia...|Fecal Pollution T...|[fecal, pollution...|(1000,[0,1,2,3,4,...|(1000,[0,1,2,3,4,...|[6.56255916594106...|    4|\n",
      "+--------------------+--------------+--------------------+----------+--------------------+--------------------+--------------------+--------------------+--------------------+--------------------+-----+\n",
      "only showing top 20 rows\n",
      "\n",
      "CPU times: user 4.37 ms, sys: 2.72 ms, total: 7.09 ms\n",
      "Wall time: 55 s\n"
     ]
    }
   ],
   "source": [
    "%time t1.show()"
   ]
  },
  {
   "cell_type": "code",
   "execution_count": null,
   "metadata": {},
   "outputs": [],
   "source": []
  }
 ],
 "metadata": {
  "kernelspec": {
   "display_name": "Python 3",
   "language": "python",
   "name": "python3"
  },
  "language_info": {
   "codemirror_mode": {
    "name": "ipython",
    "version": 3
   },
   "file_extension": ".py",
   "mimetype": "text/x-python",
   "name": "python",
   "nbconvert_exporter": "python",
   "pygments_lexer": "ipython3",
   "version": "3.7.7"
  }
 },
 "nbformat": 4,
 "nbformat_minor": 4
}
